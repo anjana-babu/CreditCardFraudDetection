{
 "cells": [
  {
   "cell_type": "markdown",
   "metadata": {},
   "source": [
    "# Deep Neural Network for Fraud Detection: Application"
   ]
  },
  {
   "cell_type": "markdown",
   "metadata": {},
   "source": [
    "## Packages"
   ]
  },
  {
   "cell_type": "code",
   "execution_count": 60,
   "metadata": {},
   "outputs": [
    {
     "name": "stdout",
     "output_type": "stream",
     "text": [
      "The autoreload extension is already loaded. To reload it, use:\n",
      "  %reload_ext autoreload\n"
     ]
    }
   ],
   "source": [
    "import time\n",
    "import numpy as np\n",
    "import h5py\n",
    "import matplotlib.pyplot as plt\n",
    "import scipy\n",
    "from PIL import Image\n",
    "from scipy import ndimage\n",
    "#from dnn_app_utils_v3 import *\n",
    "import csv\n",
    "import pandas as pd\n",
    "import tensorflow as tf\n",
    "from tensorflow.python.framework import ops\n",
    "from tf_utils import load_dataset, random_mini_batches, convert_to_one_hot, predict\n",
    "\n",
    "\n",
    "%load_ext autoreload \n",
    "%autoreload 2\n",
    "\n",
    "np.random.seed(1)"
   ]
  },
  {
   "cell_type": "markdown",
   "metadata": {},
   "source": [
    "## Dataset\n",
    "\n",
    "The data for credit card fraud detection is from: \n",
    "https://www.kaggle.com/mlg-ulb/creditcardfraud"
   ]
  },
  {
   "cell_type": "code",
   "execution_count": 61,
   "metadata": {},
   "outputs": [],
   "source": [
    "d = pd.read_csv(\"./creditcardfraud/creditcard.csv\").values \n",
    " \n",
    "train = d[0:284800,:] \n",
    "test = d[284800:,:] \n",
    "train_x_orig = train[:,0:30] \n",
    "train_y = train[:,-1] \n",
    "test_x_orig = test[:,0:30] \n",
    "test_y = test[:,-1] "
   ]
  },
  {
   "cell_type": "code",
   "execution_count": 62,
   "metadata": {},
   "outputs": [
    {
     "name": "stdout",
     "output_type": "stream",
     "text": [
      "Number of training examples: 284800\n",
      "Number of testing examples: 7\n",
      "train_x_orig shape: (284800, 30)\n",
      "train_y shape: (284800,)\n",
      "test_x_orig shape: (7, 30)\n",
      "test_y shape: (7,)\n"
     ]
    }
   ],
   "source": [
    "# Explore your dataset  \n",
    "m_train = train_x_orig.shape[0] \n",
    "m_test = test_x_orig.shape[0] \n",
    " \n",
    "print (\"Number of training examples: \" + str(m_train)) \n",
    "print (\"Number of testing examples: \" + str(m_test)) \n",
    " \n",
    "print (\"train_x_orig shape: \" + str(train_x_orig.shape)) \n",
    "print (\"train_y shape: \" + str(train_y.shape)) \n",
    "print (\"test_x_orig shape: \" + str(test_x_orig.shape)) \n",
    "print (\"test_y shape: \" + str(test_y.shape))"
   ]
  },
  {
   "cell_type": "code",
   "execution_count": 63,
   "metadata": {},
   "outputs": [
    {
     "name": "stdout",
     "output_type": "stream",
     "text": [
      "number of training examples = 284800\n",
      "number of test examples = 7\n",
      "X_train shape: (30, 284800)\n",
      "Y_train shape: (2, 284800)\n",
      "X_test shape: (30, 7)\n",
      "Y_test shape: (2, 7)\n"
     ]
    }
   ],
   "source": [
    "# Reshape the training and test examples  \n",
    "train_x_flatten = train_x_orig.reshape(train_x_orig.shape[0], -1).T   # The \"-1\" makes reshape flatten the remaining dimensions \n",
    "test_x_flatten = test_x_orig.reshape(test_x_orig.shape[0], -1).T \n",
    "train_y_flatten = train_y.reshape(train_y.shape[0], -1).T   # The \"-1\" makes reshape flatten the remaining dimensions \n",
    "test_y_flatten = test_y.reshape(test_y.shape[0], -1).T \n",
    " \n",
    "X_train = train_x_flatten \n",
    "Y_train = train_y_flatten \n",
    "X_test = test_x_flatten \n",
    "Y_test = test_y_flatten \n",
    " \n",
    "Y_train = convert_to_one_hot(Y_train.astype(int), 2) \n",
    "Y_test = convert_to_one_hot(Y_test.astype(int), 2) \n",
    " \n",
    "print (\"number of training examples = \" + str(X_train.shape[1])) \n",
    "print (\"number of test examples = \" + str(X_test.shape[1])) \n",
    "print (\"X_train shape: \" + str(X_train.shape)) \n",
    "print (\"Y_train shape: \" + str(Y_train.shape)) \n",
    "print (\"X_test shape: \" + str(X_test.shape)) \n",
    "print (\"Y_test shape: \" + str(Y_test.shape))"
   ]
  },
  {
   "cell_type": "markdown",
   "metadata": {},
   "source": [
    "## Tensorflow Neural Network"
   ]
  },
  {
   "cell_type": "code",
   "execution_count": 64,
   "metadata": {},
   "outputs": [],
   "source": [
    "def create_placeholders(n_x, n_y): \n",
    "    \"\"\" \n",
    "    Creates the placeholders for the tensorflow session. \n",
    "     \n",
    "    Arguments: \n",
    "    n_x -- scalar, size of an image vector (num_px * num_px = 64 * 64 * 3 = 12288) \n",
    "    n_y -- scalar, number of classes (from 0 to 5, so -> 6) \n",
    "     \n",
    "    Returns: \n",
    "    X -- placeholder for the data input, of shape [n_x, None] and dtype \"float\" \n",
    "    Y -- placeholder for the input labels, of shape [n_y, None] and dtype \"float\" \n",
    "     \n",
    "    Tips: \n",
    "    - You will use None because it let's us be flexible on the number of examples you will for the placeholders. \n",
    "      In fact, the number of examples during test/train is different. \n",
    "    \"\"\" \n",
    " \n",
    " \n",
    "    X = tf.placeholder(tf.float32, [n_x,None]) \n",
    "    Y = tf.placeholder(tf.float32, [n_y,None]) \n",
    "     \n",
    "    return X, Y"
   ]
  },
  {
   "cell_type": "code",
   "execution_count": 65,
   "metadata": {},
   "outputs": [
    {
     "name": "stdout",
     "output_type": "stream",
     "text": [
      "X = Tensor(\"Placeholder_3:0\", shape=(30, ?), dtype=float32)\n",
      "Y = Tensor(\"Placeholder_4:0\", shape=(2, ?), dtype=float32)\n"
     ]
    }
   ],
   "source": [
    "X, Y = create_placeholders(30, 2) \n",
    "print (\"X = \" + str(X)) \n",
    "print (\"Y = \" + str(Y))"
   ]
  },
  {
   "cell_type": "code",
   "execution_count": 66,
   "metadata": {},
   "outputs": [],
   "source": [
    "def initialize_parameters(): \n",
    "    \"\"\" \n",
    "    Initializes parameters to build a neural network with tensorflow. The shapes are: \n",
    "                        W1 : [25, 12288] \n",
    "                        b1 : [25, 1] \n",
    "                        W2 : [12, 25] \n",
    "                        b2 : [12, 1] \n",
    "                        W3 : [6, 12] \n",
    "                        b3 : [6, 1] \n",
    "     \n",
    "    Returns: \n",
    "    parameters -- a dictionary of tensors containing W1, b1, W2, b2, W3, b3 \n",
    "    \"\"\" \n",
    "     \n",
    "    tf.set_random_seed(1)              \n",
    "         \n",
    "    W1 = tf.get_variable(\"W1\", [25,30], initializer = tf.contrib.layers.xavier_initializer(seed = 1)) \n",
    "    b1 = tf.get_variable(\"b1\", [25,1], initializer = tf.zeros_initializer()) \n",
    "    W2 = tf.get_variable(\"W2\", [12,25], initializer = tf.contrib.layers.xavier_initializer(seed = 1)) \n",
    "    b2 = tf.get_variable(\"b2\", [12,1], initializer = tf.zeros_initializer()) \n",
    "    W3 = tf.get_variable(\"W3\", [2,12], initializer = tf.contrib.layers.xavier_initializer(seed = 1)) \n",
    "    b3 = tf.get_variable(\"b3\", [2,1], initializer = tf.zeros_initializer()) \n",
    " \n",
    "    parameters = {\"W1\": W1, \n",
    "                  \"b1\": b1, \n",
    "                  \"W2\": W2, \n",
    "                  \"b2\": b2, \n",
    "                  \"W3\": W3, \n",
    "                  \"b3\": b3} \n",
    "     \n",
    "    return parameters"
   ]
  },
  {
   "cell_type": "code",
   "execution_count": 67,
   "metadata": {},
   "outputs": [
    {
     "name": "stdout",
     "output_type": "stream",
     "text": [
      "W1 = <tf.Variable 'W1:0' shape=(25, 30) dtype=float32_ref>\n",
      "b1 = <tf.Variable 'b1:0' shape=(25, 1) dtype=float32_ref>\n",
      "W2 = <tf.Variable 'W2:0' shape=(12, 25) dtype=float32_ref>\n",
      "b2 = <tf.Variable 'b2:0' shape=(12, 1) dtype=float32_ref>\n"
     ]
    }
   ],
   "source": [
    "tf.reset_default_graph() \n",
    "with tf.Session() as sess: \n",
    "    parameters = initialize_parameters() \n",
    "    print(\"W1 = \" + str(parameters[\"W1\"])) \n",
    "    print(\"b1 = \" + str(parameters[\"b1\"])) \n",
    "    print(\"W2 = \" + str(parameters[\"W2\"])) \n",
    "    print(\"b2 = \" + str(parameters[\"b2\"]))"
   ]
  },
  {
   "cell_type": "code",
   "execution_count": 68,
   "metadata": {},
   "outputs": [],
   "source": [
    "def forward_propagation(X, parameters): \n",
    "    \"\"\" \n",
    "    Implements the forward propagation for the model: LINEAR -> RELU -> LINEAR -> RELU -> LINEAR -> SOFTMAX \n",
    "     \n",
    "    Arguments: \n",
    "    X -- input dataset placeholder, of shape (input size, number of examples) \n",
    "    parameters -- python dictionary containing your parameters \"W1\", \"b1\", \"W2\", \"b2\", \"W3\", \"b3\" \n",
    "                  the shapes are given in initialize_parameters \n",
    " \n",
    "    Returns: \n",
    "    Z3 -- the output of the last LINEAR unit \n",
    "    \"\"\" \n",
    "     \n",
    "    # Retrieve the parameters from the dictionary \"parameters\"  \n",
    "    W1 = parameters['W1'] \n",
    "    b1 = parameters['b1'] \n",
    "    W2 = parameters['W2'] \n",
    "    b2 = parameters['b2'] \n",
    "    W3 = parameters['W3'] \n",
    "    b3 = parameters['b3'] \n",
    "     \n",
    "    #                                                                   # Numpy Equivalents: \n",
    "    Z1 = tf.add(tf.matmul(W1,X),b1)                                     # Z1 = np.dot(W1, X) + b1 \n",
    "    A1 = tf.nn.relu(Z1)                                                 # A1 = relu(Z1) \n",
    "    Z2 = tf.add(tf.matmul(W2,A1),b2)                                    # Z2 = np.dot(W2, a1) + b2 \n",
    "    A2 = tf.nn.relu(Z2)                                                 # A2 = relu(Z2) \n",
    "    Z3 = tf.add(tf.matmul(W3,A2),b3)                                    # Z3 = np.dot(W3,Z2) + b3 \n",
    "     \n",
    "    return Z3"
   ]
  },
  {
   "cell_type": "code",
   "execution_count": 69,
   "metadata": {},
   "outputs": [
    {
     "name": "stdout",
     "output_type": "stream",
     "text": [
      "Z3 = Tensor(\"Add_2:0\", shape=(2, ?), dtype=float32)\n"
     ]
    }
   ],
   "source": [
    "tf.reset_default_graph() \n",
    " \n",
    "with tf.Session() as sess: \n",
    "    X, Y = create_placeholders(30, 2) \n",
    "    parameters = initialize_parameters() \n",
    "    Z3 = forward_propagation(X, parameters) \n",
    "    print(\"Z3 = \" + str(Z3))"
   ]
  },
  {
   "cell_type": "code",
   "execution_count": 70,
   "metadata": {},
   "outputs": [],
   "source": [
    "def compute_cost(Z3, Y): \n",
    "    \"\"\" \n",
    "    Computes the cost \n",
    "     \n",
    "    Arguments: \n",
    "    Z3 -- output of forward propagation (output of the last LINEAR unit), of shape (6, number of examples) \n",
    "    Y -- \"true\" labels vector placeholder, same shape as Z3 \n",
    "     \n",
    "    Returns: \n",
    "    cost - Tensor of the cost function \n",
    "    \"\"\" \n",
    "     \n",
    "    # to fit the tensorflow requirement for tf.nn.softmax_cross_entropy_with_logits(...,...) \n",
    "    logits = tf.transpose(Z3) \n",
    "    labels = tf.transpose(Y) \n",
    "    cost = tf.reduce_mean(tf.nn.softmax_cross_entropy_with_logits_v2(logits = logits, labels = labels)) \n",
    "     \n",
    "    return cost"
   ]
  },
  {
   "cell_type": "code",
   "execution_count": 71,
   "metadata": {},
   "outputs": [
    {
     "name": "stdout",
     "output_type": "stream",
     "text": [
      "cost = Tensor(\"Mean:0\", shape=(), dtype=float32)\n"
     ]
    }
   ],
   "source": [
    "tf.reset_default_graph() \n",
    " \n",
    "with tf.Session() as sess: \n",
    "    X, Y = create_placeholders(30, 2) \n",
    "    parameters = initialize_parameters() \n",
    "    Z3 = forward_propagation(X, parameters) \n",
    "    cost = compute_cost(Z3, Y) \n",
    "    print(\"cost = \" + str(cost))"
   ]
  },
  {
   "cell_type": "code",
   "execution_count": 35,
   "metadata": {},
   "outputs": [],
   "source": [
    "def model(X_train, Y_train, X_test, Y_test, learning_rate = 0.0001, \n",
    "          num_epochs = 1500, minibatch_size = 32, print_cost = True): \n",
    "    \"\"\" \n",
    "    Implements a three-layer tensorflow neural network: LINEAR->RELU->LINEAR->RELU->LINEAR->SOFTMAX. \n",
    "     \n",
    "    Arguments: \n",
    "    X_train -- training set, of shape (input size = 12288, number of training examples = 1080) \n",
    "    Y_train -- test set, of shape (output size = 6, number of training examples = 1080) \n",
    "    X_test -- training set, of shape (input size = 12288, number of training examples = 120) \n",
    "    Y_test -- test set, of shape (output size = 6, number of test examples = 120) \n",
    "    learning_rate -- learning rate of the optimization \n",
    "    num_epochs -- number of epochs of the optimization loop \n",
    "    minibatch_size -- size of a minibatch \n",
    "    print_cost -- True to print the cost every 100 epochs \n",
    "     \n",
    "    Returns: \n",
    "    parameters -- parameters learnt by the model. They can then be used to predict. \n",
    "    \"\"\" \n",
    "     \n",
    "    ops.reset_default_graph()                         # to be able to rerun the model without overwriting tf variables \n",
    "    tf.set_random_seed(1)                             # to keep consistent results \n",
    "    seed = 3                                          # to keep consistent results \n",
    "    (n_x, m) = X_train.shape                          # (n_x: input size, m : number of examples in the train set) \n",
    "    n_y = Y_train.shape[0]                            # n_y : output size \n",
    "    costs = []                                        # To keep track of the cost \n",
    "     \n",
    "    # Create Placeholders of shape (n_x, n_y) \n",
    "    X, Y = create_placeholders(n_x, n_y) \n",
    "    \n",
    "    # Initialize parameters \n",
    "    parameters = initialize_parameters() \n",
    "     \n",
    "    # Forward propagation: Build the forward propagation in the tensorflow graph \n",
    "    Z3 = forward_propagation(X, parameters) \n",
    "     \n",
    "    # Cost function: Add cost function to tensorflow graph \n",
    "    cost = compute_cost(Z3, Y) \n",
    "     \n",
    "    # Backpropagation: Define the tensorflow optimizer. Using AdamOptimizer. \n",
    "    optimizer = tf.train.AdamOptimizer(learning_rate = learning_rate).minimize(cost) \n",
    "     \n",
    "    # Initialize all the variables \n",
    "    init = tf.global_variables_initializer() \n",
    "    \n",
    "    # Saver for model\n",
    "    saver = tf.train.Saver()\n",
    " \n",
    "    # Start the session to compute the tensorflow graph \n",
    "    with tf.Session() as sess: \n",
    "         \n",
    "        # Run the initialization \n",
    "        sess.run(init) \n",
    "         \n",
    "        # Do the training loop \n",
    "        for epoch in range(num_epochs): \n",
    " \n",
    "            epoch_cost = 0.                       # Defines a cost related to an epoch \n",
    "            num_minibatches = int(m / minibatch_size) # number of minibatches of size minibatch_size in the train set \n",
    "            seed = seed + 1 \n",
    "            minibatches = random_mini_batches(X_train, Y_train, minibatch_size, seed) \n",
    " \n",
    "            for minibatch in minibatches: \n",
    " \n",
    "                # Select a minibatch \n",
    "                (minibatch_X, minibatch_Y) = minibatch \n",
    "                 \n",
    "                # IMPORTANT: The line that runs the graph on a minibatch. \n",
    "                # Run the session to execute the \"optimizer\" and the \"cost\",  \n",
    "                # the feedict should contain a minibatch for (X,Y). \n",
    "                _ , minibatch_cost = sess.run([optimizer,cost], feed_dict = {X:minibatch_X, Y: minibatch_Y}) \n",
    "                epoch_cost += minibatch_cost / num_minibatches \n",
    " \n",
    "            # Print the cost every epoch \n",
    "            if print_cost == True and epoch % 100 == 0: \n",
    "                print (\"Cost after epoch %i: %f\" % (epoch, epoch_cost)) \n",
    "            if print_cost == True and epoch % 5 == 0: \n",
    "                costs.append(epoch_cost) \n",
    "                 \n",
    "        # plot the cost \n",
    "        plt.plot(np.squeeze(costs)) \n",
    "        plt.ylabel('cost') \n",
    "        plt.xlabel('iterations (per tens)') \n",
    "        plt.title(\"Learning rate =\" + str(learning_rate)) \n",
    "        plt.show() \n",
    " \n",
    "        # lets save the parameters in a variable \n",
    "        parameters = sess.run(parameters) \n",
    "        print (\"Parameters have been trained!\") \n",
    " \n",
    "        # Calculate the correct predictions \n",
    "        correct_prediction = tf.equal(tf.argmax(Z3), tf.argmax(Y)) \n",
    " \n",
    "        # Calculate accuracy on the test set \n",
    "        accuracy = tf.reduce_mean(tf.cast(correct_prediction, \"float\")) \n",
    " \n",
    "        print (\"Train Accuracy:\", accuracy.eval({X: X_train, Y: Y_train})) \n",
    "        print (\"Test Accuracy:\", accuracy.eval({X: X_test, Y: Y_test})) \n",
    "     \n",
    "        saver.save(sess, './my_test_model') \n",
    "         \n",
    "        return parameters\n"
   ]
  },
  {
   "cell_type": "code",
   "execution_count": 37,
   "metadata": {},
   "outputs": [
    {
     "name": "stdout",
     "output_type": "stream",
     "text": [
      "Cost after epoch 0: 141.974387\n",
      "Cost after epoch 100: 0.010604\n",
      "Cost after epoch 200: 0.005083\n",
      "Cost after epoch 300: 0.004907\n",
      "Cost after epoch 400: 0.004178\n",
      "Cost after epoch 500: 0.004226\n",
      "Cost after epoch 600: 0.005543\n",
      "Cost after epoch 700: 0.004129\n",
      "Cost after epoch 800: 0.004085\n",
      "Cost after epoch 900: 0.005123\n",
      "Cost after epoch 1000: 0.004172\n",
      "Cost after epoch 1100: 0.004453\n",
      "Cost after epoch 1200: 0.004803\n",
      "Cost after epoch 1300: 0.004466\n",
      "Cost after epoch 1400: 0.004945\n"
     ]
    },
    {
     "data": {
      "image/png": "[encoded data removed]",
      "text/plain": [
       "<Figure size 432x288 with 1 Axes>"
      ]
     },
     "metadata": {
      "needs_background": "light"
     },
     "output_type": "display_data"
    },
    {
     "name": "stdout",
     "output_type": "stream",
     "text": [
      "Parameters have been trained!\n",
      "Train Accuracy: 0.9991573\n",
      "Test Accuracy: 1.0\n"
     ]
    }
   ],
   "source": [
    "parameters = model(X_train, Y_train, X_test, Y_test)"
   ]
  },
  {
   "cell_type": "code",
   "execution_count": 72,
   "metadata": {},
   "outputs": [
    {
     "name": "stdout",
     "output_type": "stream",
     "text": [
      "(30, 1)\n"
     ]
    },
    {
     "ename": "ValueError",
     "evalue": "Dimensions must be equal, but are 30 and 12288 for 'MatMul_3' (op: 'MatMul') with input shapes: [25,30], [12288,30].",
     "output_type": "error",
     "traceback": [
      "\u001b[0;31m---------------------------------------------------------------------------\u001b[0m",
      "\u001b[0;31mInvalidArgumentError\u001b[0m                      Traceback (most recent call last)",
      "\u001b[0;32m~/tensorflow/venv/lib/python3.6/site-packages/tensorflow/python/framework/ops.py\u001b[0m in \u001b[0;36m_create_c_op\u001b[0;34m(graph, node_def, inputs, control_inputs)\u001b[0m\n\u001b[1;32m   1588\u001b[0m   \u001b[0;32mtry\u001b[0m\u001b[0;34m:\u001b[0m\u001b[0;34m\u001b[0m\u001b[0;34m\u001b[0m\u001b[0m\n\u001b[0;32m-> 1589\u001b[0;31m     \u001b[0mc_op\u001b[0m \u001b[0;34m=\u001b[0m \u001b[0mc_api\u001b[0m\u001b[0;34m.\u001b[0m\u001b[0mTF_FinishOperation\u001b[0m\u001b[0;34m(\u001b[0m\u001b[0mop_desc\u001b[0m\u001b[0;34m)\u001b[0m\u001b[0;34m\u001b[0m\u001b[0;34m\u001b[0m\u001b[0m\n\u001b[0m\u001b[1;32m   1590\u001b[0m   \u001b[0;32mexcept\u001b[0m \u001b[0merrors\u001b[0m\u001b[0;34m.\u001b[0m\u001b[0mInvalidArgumentError\u001b[0m \u001b[0;32mas\u001b[0m \u001b[0me\u001b[0m\u001b[0;34m:\u001b[0m\u001b[0;34m\u001b[0m\u001b[0;34m\u001b[0m\u001b[0m\n",
      "\u001b[0;31mInvalidArgumentError\u001b[0m: Dimensions must be equal, but are 30 and 12288 for 'MatMul_3' (op: 'MatMul') with input shapes: [25,30], [12288,30].",
      "\nDuring handling of the above exception, another exception occurred:\n",
      "\u001b[0;31mValueError\u001b[0m                                Traceback (most recent call last)",
      "\u001b[0;32m<ipython-input-72-a7fe37d09370>\u001b[0m in \u001b[0;36m<module>\u001b[0;34m()\u001b[0m\n\u001b[1;32m      1\u001b[0m \u001b[0mprint\u001b[0m\u001b[0;34m(\u001b[0m\u001b[0mX_test\u001b[0m\u001b[0;34m[\u001b[0m\u001b[0;34m:\u001b[0m\u001b[0;34m,\u001b[0m\u001b[0;36m1\u001b[0m\u001b[0;34m:\u001b[0m\u001b[0;36m2\u001b[0m\u001b[0;34m]\u001b[0m\u001b[0;34m.\u001b[0m\u001b[0mshape\u001b[0m\u001b[0;34m)\u001b[0m\u001b[0;34m\u001b[0m\u001b[0;34m\u001b[0m\u001b[0m\n\u001b[0;32m----> 2\u001b[0;31m \u001b[0mprediction\u001b[0m \u001b[0;34m=\u001b[0m \u001b[0mpredict\u001b[0m\u001b[0;34m(\u001b[0m\u001b[0mX_test\u001b[0m\u001b[0;34m[\u001b[0m\u001b[0;34m:\u001b[0m\u001b[0;34m,\u001b[0m\u001b[0;36m1\u001b[0m\u001b[0;34m:\u001b[0m\u001b[0;36m2\u001b[0m\u001b[0;34m]\u001b[0m\u001b[0;34m,\u001b[0m \u001b[0mparameters\u001b[0m\u001b[0;34m)\u001b[0m\u001b[0;34m\u001b[0m\u001b[0;34m\u001b[0m\u001b[0m\n\u001b[0m\u001b[1;32m      3\u001b[0m \u001b[0mprint\u001b[0m\u001b[0;34m(\u001b[0m\u001b[0mprediction\u001b[0m\u001b[0;34m)\u001b[0m\u001b[0;34m\u001b[0m\u001b[0;34m\u001b[0m\u001b[0m\n\u001b[1;32m      4\u001b[0m \u001b[0mprint\u001b[0m\u001b[0;34m(\u001b[0m\u001b[0mY_test\u001b[0m\u001b[0;34m[\u001b[0m\u001b[0;34m:\u001b[0m\u001b[0;34m,\u001b[0m\u001b[0;36m1\u001b[0m\u001b[0;34m:\u001b[0m\u001b[0;36m2\u001b[0m\u001b[0;34m]\u001b[0m\u001b[0;34m)\u001b[0m\u001b[0;34m\u001b[0m\u001b[0;34m\u001b[0m\u001b[0m\n",
      "\u001b[0;32m~/DL/CreditCardFraudDetection/tf_utils.py\u001b[0m in \u001b[0;36mpredict\u001b[0;34m(X, parameters)\u001b[0m\n\u001b[1;32m     84\u001b[0m     \u001b[0mx\u001b[0m \u001b[0;34m=\u001b[0m \u001b[0mtf\u001b[0m\u001b[0;34m.\u001b[0m\u001b[0mplaceholder\u001b[0m\u001b[0;34m(\u001b[0m\u001b[0;34m\"float\"\u001b[0m\u001b[0;34m,\u001b[0m \u001b[0;34m[\u001b[0m\u001b[0;36m12288\u001b[0m\u001b[0;34m,\u001b[0m \u001b[0;36m30\u001b[0m\u001b[0;34m]\u001b[0m\u001b[0;34m)\u001b[0m\u001b[0;34m\u001b[0m\u001b[0;34m\u001b[0m\u001b[0m\n\u001b[1;32m     85\u001b[0m \u001b[0;34m\u001b[0m\u001b[0m\n\u001b[0;32m---> 86\u001b[0;31m     \u001b[0mz3\u001b[0m \u001b[0;34m=\u001b[0m \u001b[0mforward_propagation_for_predict\u001b[0m\u001b[0;34m(\u001b[0m\u001b[0mx\u001b[0m\u001b[0;34m,\u001b[0m \u001b[0mparams\u001b[0m\u001b[0;34m)\u001b[0m\u001b[0;34m\u001b[0m\u001b[0;34m\u001b[0m\u001b[0m\n\u001b[0m\u001b[1;32m     87\u001b[0m     \u001b[0mp\u001b[0m \u001b[0;34m=\u001b[0m \u001b[0mtf\u001b[0m\u001b[0;34m.\u001b[0m\u001b[0margmax\u001b[0m\u001b[0;34m(\u001b[0m\u001b[0mz3\u001b[0m\u001b[0;34m)\u001b[0m\u001b[0;34m\u001b[0m\u001b[0;34m\u001b[0m\u001b[0m\n\u001b[1;32m     88\u001b[0m \u001b[0;34m\u001b[0m\u001b[0m\n",
      "\u001b[0;32m~/DL/CreditCardFraudDetection/tf_utils.py\u001b[0m in \u001b[0;36mforward_propagation_for_predict\u001b[0;34m(X, parameters)\u001b[0m\n\u001b[1;32m    113\u001b[0m     \u001b[0mb3\u001b[0m \u001b[0;34m=\u001b[0m \u001b[0mparameters\u001b[0m\u001b[0;34m[\u001b[0m\u001b[0;34m'b3'\u001b[0m\u001b[0;34m]\u001b[0m\u001b[0;34m\u001b[0m\u001b[0;34m\u001b[0m\u001b[0m\n\u001b[1;32m    114\u001b[0m                                                            \u001b[0;31m# Numpy Equivalents:\u001b[0m\u001b[0;34m\u001b[0m\u001b[0;34m\u001b[0m\u001b[0;34m\u001b[0m\u001b[0m\n\u001b[0;32m--> 115\u001b[0;31m     \u001b[0mZ1\u001b[0m \u001b[0;34m=\u001b[0m \u001b[0mtf\u001b[0m\u001b[0;34m.\u001b[0m\u001b[0madd\u001b[0m\u001b[0;34m(\u001b[0m\u001b[0mtf\u001b[0m\u001b[0;34m.\u001b[0m\u001b[0mmatmul\u001b[0m\u001b[0;34m(\u001b[0m\u001b[0mW1\u001b[0m\u001b[0;34m,\u001b[0m \u001b[0mX\u001b[0m\u001b[0;34m)\u001b[0m\u001b[0;34m,\u001b[0m \u001b[0mb1\u001b[0m\u001b[0;34m)\u001b[0m                      \u001b[0;31m# Z1 = np.dot(W1, X) + b1\u001b[0m\u001b[0;34m\u001b[0m\u001b[0;34m\u001b[0m\u001b[0m\n\u001b[0m\u001b[1;32m    116\u001b[0m     \u001b[0mA1\u001b[0m \u001b[0;34m=\u001b[0m \u001b[0mtf\u001b[0m\u001b[0;34m.\u001b[0m\u001b[0mnn\u001b[0m\u001b[0;34m.\u001b[0m\u001b[0mrelu\u001b[0m\u001b[0;34m(\u001b[0m\u001b[0mZ1\u001b[0m\u001b[0;34m)\u001b[0m                                    \u001b[0;31m# A1 = relu(Z1)\u001b[0m\u001b[0;34m\u001b[0m\u001b[0;34m\u001b[0m\u001b[0m\n\u001b[1;32m    117\u001b[0m     \u001b[0mZ2\u001b[0m \u001b[0;34m=\u001b[0m \u001b[0mtf\u001b[0m\u001b[0;34m.\u001b[0m\u001b[0madd\u001b[0m\u001b[0;34m(\u001b[0m\u001b[0mtf\u001b[0m\u001b[0;34m.\u001b[0m\u001b[0mmatmul\u001b[0m\u001b[0;34m(\u001b[0m\u001b[0mW2\u001b[0m\u001b[0;34m,\u001b[0m \u001b[0mA1\u001b[0m\u001b[0;34m)\u001b[0m\u001b[0;34m,\u001b[0m \u001b[0mb2\u001b[0m\u001b[0;34m)\u001b[0m                     \u001b[0;31m# Z2 = np.dot(W2, a1) + b2\u001b[0m\u001b[0;34m\u001b[0m\u001b[0;34m\u001b[0m\u001b[0m\n",
      "\u001b[0;32m~/tensorflow/venv/lib/python3.6/site-packages/tensorflow/python/ops/math_ops.py\u001b[0m in \u001b[0;36mmatmul\u001b[0;34m(a, b, transpose_a, transpose_b, adjoint_a, adjoint_b, a_is_sparse, b_is_sparse, name)\u001b[0m\n\u001b[1;32m   2012\u001b[0m     \u001b[0;32melse\u001b[0m\u001b[0;34m:\u001b[0m\u001b[0;34m\u001b[0m\u001b[0;34m\u001b[0m\u001b[0m\n\u001b[1;32m   2013\u001b[0m       return gen_math_ops.mat_mul(\n\u001b[0;32m-> 2014\u001b[0;31m           a, b, transpose_a=transpose_a, transpose_b=transpose_b, name=name)\n\u001b[0m\u001b[1;32m   2015\u001b[0m \u001b[0;34m\u001b[0m\u001b[0m\n\u001b[1;32m   2016\u001b[0m \u001b[0;34m\u001b[0m\u001b[0m\n",
      "\u001b[0;32m~/tensorflow/venv/lib/python3.6/site-packages/tensorflow/python/ops/gen_math_ops.py\u001b[0m in \u001b[0;36mmat_mul\u001b[0;34m(a, b, transpose_a, transpose_b, name)\u001b[0m\n\u001b[1;32m   4277\u001b[0m     _, _, _op = _op_def_lib._apply_op_helper(\n\u001b[1;32m   4278\u001b[0m         \u001b[0;34m\"MatMul\"\u001b[0m\u001b[0;34m,\u001b[0m \u001b[0ma\u001b[0m\u001b[0;34m=\u001b[0m\u001b[0ma\u001b[0m\u001b[0;34m,\u001b[0m \u001b[0mb\u001b[0m\u001b[0;34m=\u001b[0m\u001b[0mb\u001b[0m\u001b[0;34m,\u001b[0m \u001b[0mtranspose_a\u001b[0m\u001b[0;34m=\u001b[0m\u001b[0mtranspose_a\u001b[0m\u001b[0;34m,\u001b[0m \u001b[0mtranspose_b\u001b[0m\u001b[0;34m=\u001b[0m\u001b[0mtranspose_b\u001b[0m\u001b[0;34m,\u001b[0m\u001b[0;34m\u001b[0m\u001b[0;34m\u001b[0m\u001b[0m\n\u001b[0;32m-> 4279\u001b[0;31m         name=name)\n\u001b[0m\u001b[1;32m   4280\u001b[0m     \u001b[0m_result\u001b[0m \u001b[0;34m=\u001b[0m \u001b[0m_op\u001b[0m\u001b[0;34m.\u001b[0m\u001b[0moutputs\u001b[0m\u001b[0;34m[\u001b[0m\u001b[0;34m:\u001b[0m\u001b[0;34m]\u001b[0m\u001b[0;34m\u001b[0m\u001b[0;34m\u001b[0m\u001b[0m\n\u001b[1;32m   4281\u001b[0m     \u001b[0m_inputs_flat\u001b[0m \u001b[0;34m=\u001b[0m \u001b[0m_op\u001b[0m\u001b[0;34m.\u001b[0m\u001b[0minputs\u001b[0m\u001b[0;34m\u001b[0m\u001b[0;34m\u001b[0m\u001b[0m\n",
      "\u001b[0;32m~/tensorflow/venv/lib/python3.6/site-packages/tensorflow/python/framework/op_def_library.py\u001b[0m in \u001b[0;36m_apply_op_helper\u001b[0;34m(self, op_type_name, name, **keywords)\u001b[0m\n\u001b[1;32m    785\u001b[0m         op = g.create_op(op_type_name, inputs, output_types, name=scope,\n\u001b[1;32m    786\u001b[0m                          \u001b[0minput_types\u001b[0m\u001b[0;34m=\u001b[0m\u001b[0minput_types\u001b[0m\u001b[0;34m,\u001b[0m \u001b[0mattrs\u001b[0m\u001b[0;34m=\u001b[0m\u001b[0mattr_protos\u001b[0m\u001b[0;34m,\u001b[0m\u001b[0;34m\u001b[0m\u001b[0;34m\u001b[0m\u001b[0m\n\u001b[0;32m--> 787\u001b[0;31m                          op_def=op_def)\n\u001b[0m\u001b[1;32m    788\u001b[0m       \u001b[0;32mreturn\u001b[0m \u001b[0moutput_structure\u001b[0m\u001b[0;34m,\u001b[0m \u001b[0mop_def\u001b[0m\u001b[0;34m.\u001b[0m\u001b[0mis_stateful\u001b[0m\u001b[0;34m,\u001b[0m \u001b[0mop\u001b[0m\u001b[0;34m\u001b[0m\u001b[0;34m\u001b[0m\u001b[0m\n\u001b[1;32m    789\u001b[0m \u001b[0;34m\u001b[0m\u001b[0m\n",
      "\u001b[0;32m~/tensorflow/venv/lib/python3.6/site-packages/tensorflow/python/framework/ops.py\u001b[0m in \u001b[0;36mcreate_op\u001b[0;34m(self, op_type, inputs, dtypes, input_types, name, attrs, op_def, compute_shapes, compute_device)\u001b[0m\n\u001b[1;32m   3412\u001b[0m           \u001b[0minput_types\u001b[0m\u001b[0;34m=\u001b[0m\u001b[0minput_types\u001b[0m\u001b[0;34m,\u001b[0m\u001b[0;34m\u001b[0m\u001b[0;34m\u001b[0m\u001b[0m\n\u001b[1;32m   3413\u001b[0m           \u001b[0moriginal_op\u001b[0m\u001b[0;34m=\u001b[0m\u001b[0mself\u001b[0m\u001b[0;34m.\u001b[0m\u001b[0m_default_original_op\u001b[0m\u001b[0;34m,\u001b[0m\u001b[0;34m\u001b[0m\u001b[0;34m\u001b[0m\u001b[0m\n\u001b[0;32m-> 3414\u001b[0;31m           op_def=op_def)\n\u001b[0m\u001b[1;32m   3415\u001b[0m \u001b[0;34m\u001b[0m\u001b[0m\n\u001b[1;32m   3416\u001b[0m       \u001b[0;31m# Note: shapes are lazily computed with the C API enabled.\u001b[0m\u001b[0;34m\u001b[0m\u001b[0;34m\u001b[0m\u001b[0;34m\u001b[0m\u001b[0m\n",
      "\u001b[0;32m~/tensorflow/venv/lib/python3.6/site-packages/tensorflow/python/framework/ops.py\u001b[0m in \u001b[0;36m__init__\u001b[0;34m(self, node_def, g, inputs, output_types, control_inputs, input_types, original_op, op_def)\u001b[0m\n\u001b[1;32m   1754\u001b[0m           op_def, inputs, node_def.attr)\n\u001b[1;32m   1755\u001b[0m       self._c_op = _create_c_op(self._graph, node_def, grouped_inputs,\n\u001b[0;32m-> 1756\u001b[0;31m                                 control_input_ops)\n\u001b[0m\u001b[1;32m   1757\u001b[0m     \u001b[0;32melse\u001b[0m\u001b[0;34m:\u001b[0m\u001b[0;34m\u001b[0m\u001b[0;34m\u001b[0m\u001b[0m\n\u001b[1;32m   1758\u001b[0m       \u001b[0mself\u001b[0m\u001b[0;34m.\u001b[0m\u001b[0m_c_op\u001b[0m \u001b[0;34m=\u001b[0m \u001b[0;32mNone\u001b[0m\u001b[0;34m\u001b[0m\u001b[0;34m\u001b[0m\u001b[0m\n",
      "\u001b[0;32m~/tensorflow/venv/lib/python3.6/site-packages/tensorflow/python/framework/ops.py\u001b[0m in \u001b[0;36m_create_c_op\u001b[0;34m(graph, node_def, inputs, control_inputs)\u001b[0m\n\u001b[1;32m   1590\u001b[0m   \u001b[0;32mexcept\u001b[0m \u001b[0merrors\u001b[0m\u001b[0;34m.\u001b[0m\u001b[0mInvalidArgumentError\u001b[0m \u001b[0;32mas\u001b[0m \u001b[0me\u001b[0m\u001b[0;34m:\u001b[0m\u001b[0;34m\u001b[0m\u001b[0;34m\u001b[0m\u001b[0m\n\u001b[1;32m   1591\u001b[0m     \u001b[0;31m# Convert to ValueError for backwards compatibility.\u001b[0m\u001b[0;34m\u001b[0m\u001b[0;34m\u001b[0m\u001b[0;34m\u001b[0m\u001b[0m\n\u001b[0;32m-> 1592\u001b[0;31m     \u001b[0;32mraise\u001b[0m \u001b[0mValueError\u001b[0m\u001b[0;34m(\u001b[0m\u001b[0mstr\u001b[0m\u001b[0;34m(\u001b[0m\u001b[0me\u001b[0m\u001b[0;34m)\u001b[0m\u001b[0;34m)\u001b[0m\u001b[0;34m\u001b[0m\u001b[0;34m\u001b[0m\u001b[0m\n\u001b[0m\u001b[1;32m   1593\u001b[0m \u001b[0;34m\u001b[0m\u001b[0m\n\u001b[1;32m   1594\u001b[0m   \u001b[0;32mreturn\u001b[0m \u001b[0mc_op\u001b[0m\u001b[0;34m\u001b[0m\u001b[0;34m\u001b[0m\u001b[0m\n",
      "\u001b[0;31mValueError\u001b[0m: Dimensions must be equal, but are 30 and 12288 for 'MatMul_3' (op: 'MatMul') with input shapes: [25,30], [12288,30]."
     ]
    }
   ],
   "source": [
    "print(X_test[:,1:2].shape)\n",
    "prediction = predict(X_test[:,1:2], parameters) \n",
    "print(prediction) \n",
    "print(Y_test[:,1:2])"
   ]
  },
  {
   "cell_type": "code",
   "execution_count": null,
   "metadata": {},
   "outputs": [],
   "source": []
  }
 ],
 "metadata": {
  "kernelspec": {
   "display_name": "Python 3",
   "language": "python",
   "name": "python3"
  },
  "language_info": {
   "codemirror_mode": {
    "name": "ipython",
    "version": 3
   },
   "file_extension": ".py",
   "mimetype": "text/x-python",
   "name": "python",
   "nbconvert_exporter": "python",
   "pygments_lexer": "ipython3",
   "version": "3.6.5"
  }
 },
 "nbformat": 4,
 "nbformat_minor": 1
}
